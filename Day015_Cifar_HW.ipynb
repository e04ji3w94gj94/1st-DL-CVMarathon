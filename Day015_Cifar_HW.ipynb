{
 "cells": [
  {
   "cell_type": "markdown",
   "metadata": {},
   "source": [
    "## 『本次練習內容』\n",
    "#### 運用這幾天所學觀念搭建一個CNN分類器"
   ]
  },
  {
   "cell_type": "markdown",
   "metadata": {},
   "source": [
    "## 『本次練習目的』\n",
    "  #### 熟悉CNN分類器搭建步驟與原理\n",
    "  #### 學員們可以嘗試不同搭法，如使用不同的Maxpooling層，用GlobalAveragePooling取代Flatten等等"
   ]
  },
  {
   "cell_type": "code",
   "execution_count": 1,
   "metadata": {},
   "outputs": [
    {
     "name": "stderr",
     "output_type": "stream",
     "text": [
      "Using TensorFlow backend.\n"
     ]
    }
   ],
   "source": [
    "from keras.models import Sequential\n",
    "from keras.layers import Convolution2D\n",
    "from keras.layers import MaxPooling2D\n",
    "from keras.layers import Flatten\n",
    "from keras.layers import Dense\n",
    "from keras.layers import Dropout\n",
    "from keras.layers import BatchNormalization\n",
    "from keras.datasets import cifar10\n",
    "import numpy as np\n",
    "import tensorflow as tf\n",
    "from sklearn.preprocessing import OneHotEncoder\n",
    "from keras import regularizers\n",
    "from keras.preprocessing.image import ImageDataGenerator"
   ]
  },
  {
   "cell_type": "code",
   "execution_count": 2,
   "metadata": {},
   "outputs": [
    {
     "name": "stdout",
     "output_type": "stream",
     "text": [
      "(50000, 32, 32, 3)\n"
     ]
    }
   ],
   "source": [
    "(x_train, y_train), (x_test, y_test) = cifar10.load_data()\n",
    "\n",
    "print(x_train.shape) #(50000, 32, 32, 3)\n",
    "\n",
    "## Normalize Data\n",
    "def normalize(X_train,X_test):\n",
    "        mean = np.mean(X_train,axis=(0,1,2,3))\n",
    "        std = np.std(X_train, axis=(0, 1, 2, 3))\n",
    "        X_train = (X_train-mean)/(std+1e-7)\n",
    "        X_test = (X_test-mean)/(std+1e-7) \n",
    "        return X_train, X_test,mean,std\n",
    "    \n",
    "    \n",
    "## Normalize Training and Testset    \n",
    "x_train, x_test,mean_train,std_train = normalize(x_train, x_test) "
   ]
  },
  {
   "cell_type": "code",
   "execution_count": 3,
   "metadata": {},
   "outputs": [
    {
     "name": "stderr",
     "output_type": "stream",
     "text": [
      "/home/faifai/anaconda3/envs/deeplearning-gpu/lib/python3.6/site-packages/sklearn/preprocessing/_encoders.py:415: FutureWarning: The handling of integer data will change in version 0.22. Currently, the categories are determined based on the range [0, max(values)], while in the future they will be determined based on the unique values.\n",
      "If you want the future behaviour and silence this warning, you can specify \"categories='auto'\".\n",
      "In case you used a LabelEncoder before this OneHotEncoder to convert the categories to integers, then you can now use the OneHotEncoder directly.\n",
      "  warnings.warn(msg, FutureWarning)\n"
     ]
    }
   ],
   "source": [
    "## OneHot Label 由(None, 1)-(None, 10)\n",
    "## ex. label=2,變成[0,0,1,0,0,0,0,0,0,0]\n",
    "one_hot=OneHotEncoder()\n",
    "y_train=one_hot.fit_transform(y_train).toarray()\n",
    "y_test=one_hot.transform(y_test).toarray()"
   ]
  },
  {
   "cell_type": "code",
   "execution_count": 4,
   "metadata": {},
   "outputs": [
    {
     "name": "stdout",
     "output_type": "stream",
     "text": [
      "WARNING:tensorflow:From /home/faifai/anaconda3/envs/deeplearning-gpu/lib/python3.6/site-packages/tensorflow/python/ops/resource_variable_ops.py:435: colocate_with (from tensorflow.python.framework.ops) is deprecated and will be removed in a future version.\n",
      "Instructions for updating:\n",
      "Colocations handled automatically by placer.\n",
      "WARNING:tensorflow:From /home/faifai/anaconda3/envs/deeplearning-gpu/lib/python3.6/site-packages/tensorflow/python/ops/math_ops.py:3066: to_int32 (from tensorflow.python.ops.math_ops) is deprecated and will be removed in a future version.\n",
      "Instructions for updating:\n",
      "Use tf.cast instead.\n",
      "Epoch 1/100\n",
      "50000/50000 [==============================] - 8s 157us/step - loss: 1.6701 - accuracy: 0.5097\n",
      "Epoch 2/100\n",
      "50000/50000 [==============================] - 7s 136us/step - loss: 1.1487 - accuracy: 0.6692\n",
      "Epoch 3/100\n",
      "50000/50000 [==============================] - 7s 140us/step - loss: 0.9768 - accuracy: 0.7230\n",
      "Epoch 4/100\n",
      "50000/50000 [==============================] - 7s 138us/step - loss: 0.8927 - accuracy: 0.7534\n",
      "Epoch 5/100\n",
      "50000/50000 [==============================] - 7s 145us/step - loss: 0.8363 - accuracy: 0.7792\n",
      "Epoch 6/100\n",
      "50000/50000 [==============================] - 7s 138us/step - loss: 0.7951 - accuracy: 0.7971\n",
      "Epoch 7/100\n",
      "50000/50000 [==============================] - 7s 141us/step - loss: 0.7584 - accuracy: 0.8187\n",
      "Epoch 8/100\n",
      "50000/50000 [==============================] - 7s 143us/step - loss: 0.7309 - accuracy: 0.8299\n",
      "Epoch 9/100\n",
      "50000/50000 [==============================] - 7s 146us/step - loss: 0.7075 - accuracy: 0.8420\n",
      "Epoch 10/100\n",
      "50000/50000 [==============================] - 7s 143us/step - loss: 0.6879 - accuracy: 0.8538\n",
      "Epoch 11/100\n",
      "50000/50000 [==============================] - 7s 143us/step - loss: 0.6648 - accuracy: 0.8652\n",
      "Epoch 12/100\n",
      "50000/50000 [==============================] - 7s 143us/step - loss: 0.6467 - accuracy: 0.8713\n",
      "Epoch 13/100\n",
      "50000/50000 [==============================] - 7s 141us/step - loss: 0.6349 - accuracy: 0.8779\n",
      "Epoch 14/100\n",
      "50000/50000 [==============================] - 7s 141us/step - loss: 0.6210 - accuracy: 0.8850\n",
      "Epoch 15/100\n",
      "50000/50000 [==============================] - 7s 141us/step - loss: 0.5989 - accuracy: 0.8927\n",
      "Epoch 16/100\n",
      "50000/50000 [==============================] - 7s 142us/step - loss: 0.5807 - accuracy: 0.8992\n",
      "Epoch 17/100\n",
      "50000/50000 [==============================] - 7s 142us/step - loss: 0.5790 - accuracy: 0.9000\n",
      "Epoch 18/100\n",
      "50000/50000 [==============================] - 7s 142us/step - loss: 0.5699 - accuracy: 0.9056\n",
      "Epoch 19/100\n",
      "50000/50000 [==============================] - 7s 141us/step - loss: 0.5617 - accuracy: 0.9078\n",
      "Epoch 20/100\n",
      "50000/50000 [==============================] - 7s 141us/step - loss: 0.5470 - accuracy: 0.9126\n",
      "Epoch 21/100\n",
      "50000/50000 [==============================] - 7s 141us/step - loss: 0.5349 - accuracy: 0.9170\n",
      "Epoch 22/100\n",
      "50000/50000 [==============================] - 7s 141us/step - loss: 0.5454 - accuracy: 0.9132\n",
      "Epoch 23/100\n",
      "50000/50000 [==============================] - 7s 141us/step - loss: 0.5200 - accuracy: 0.9221\n",
      "Epoch 24/100\n",
      "50000/50000 [==============================] - 7s 142us/step - loss: 0.5084 - accuracy: 0.9257\n",
      "Epoch 25/100\n",
      "50000/50000 [==============================] - 7s 141us/step - loss: 0.5133 - accuracy: 0.9238\n",
      "Epoch 26/100\n",
      "50000/50000 [==============================] - 7s 141us/step - loss: 0.5079 - accuracy: 0.9264\n",
      "Epoch 27/100\n",
      "50000/50000 [==============================] - 7s 142us/step - loss: 0.4935 - accuracy: 0.9301\n",
      "Epoch 28/100\n",
      "50000/50000 [==============================] - 7s 141us/step - loss: 0.4814 - accuracy: 0.9327\n",
      "Epoch 29/100\n",
      "50000/50000 [==============================] - 7s 141us/step - loss: 0.4944 - accuracy: 0.9302\n",
      "Epoch 30/100\n",
      "50000/50000 [==============================] - 7s 141us/step - loss: 0.4843 - accuracy: 0.9352\n",
      "Epoch 31/100\n",
      "50000/50000 [==============================] - 7s 142us/step - loss: 0.4760 - accuracy: 0.9369\n",
      "Epoch 32/100\n",
      "50000/50000 [==============================] - 7s 141us/step - loss: 0.4813 - accuracy: 0.9351\n",
      "Epoch 33/100\n",
      "50000/50000 [==============================] - 7s 141us/step - loss: 0.4630 - accuracy: 0.9415\n",
      "Epoch 34/100\n",
      "50000/50000 [==============================] - 7s 141us/step - loss: 0.4523 - accuracy: 0.9429\n",
      "Epoch 35/100\n",
      "50000/50000 [==============================] - 7s 141us/step - loss: 0.4675 - accuracy: 0.9376\n",
      "Epoch 36/100\n",
      "50000/50000 [==============================] - 7s 141us/step - loss: 0.4596 - accuracy: 0.9407\n",
      "Epoch 37/100\n",
      "50000/50000 [==============================] - 7s 141us/step - loss: 0.4522 - accuracy: 0.9434\n",
      "Epoch 38/100\n",
      "50000/50000 [==============================] - 7s 141us/step - loss: 0.4432 - accuracy: 0.9453\n",
      "Epoch 39/100\n",
      "50000/50000 [==============================] - 7s 141us/step - loss: 0.4503 - accuracy: 0.9440\n",
      "Epoch 40/100\n",
      "50000/50000 [==============================] - 7s 141us/step - loss: 0.4367 - accuracy: 0.9463\n",
      "Epoch 41/100\n",
      "50000/50000 [==============================] - 7s 141us/step - loss: 0.4287 - accuracy: 0.9480\n",
      "Epoch 42/100\n",
      "50000/50000 [==============================] - 7s 141us/step - loss: 0.4406 - accuracy: 0.9466\n",
      "Epoch 43/100\n",
      "50000/50000 [==============================] - 7s 141us/step - loss: 0.4327 - accuracy: 0.9487\n",
      "Epoch 44/100\n",
      "50000/50000 [==============================] - 7s 141us/step - loss: 0.4331 - accuracy: 0.9469\n",
      "Epoch 45/100\n",
      "50000/50000 [==============================] - 7s 141us/step - loss: 0.4236 - accuracy: 0.9508\n",
      "Epoch 46/100\n",
      "50000/50000 [==============================] - 7s 141us/step - loss: 0.4174 - accuracy: 0.9518\n",
      "Epoch 47/100\n",
      "50000/50000 [==============================] - 7s 141us/step - loss: 0.4270 - accuracy: 0.9500\n",
      "Epoch 48/100\n",
      "50000/50000 [==============================] - 7s 141us/step - loss: 0.4159 - accuracy: 0.9512\n",
      "Epoch 49/100\n",
      "50000/50000 [==============================] - 7s 141us/step - loss: 0.4207 - accuracy: 0.9502\n",
      "Epoch 50/100\n",
      "50000/50000 [==============================] - 7s 141us/step - loss: 0.4113 - accuracy: 0.9534\n",
      "Epoch 51/100\n",
      "50000/50000 [==============================] - 7s 141us/step - loss: 0.4110 - accuracy: 0.9542\n",
      "Epoch 52/100\n",
      "50000/50000 [==============================] - 7s 141us/step - loss: 0.4122 - accuracy: 0.9534\n",
      "Epoch 53/100\n",
      "50000/50000 [==============================] - 7s 141us/step - loss: 0.4077 - accuracy: 0.9541\n",
      "Epoch 54/100\n",
      "50000/50000 [==============================] - 7s 141us/step - loss: 0.4123 - accuracy: 0.9535\n",
      "Epoch 55/100\n",
      "50000/50000 [==============================] - 7s 141us/step - loss: 0.4003 - accuracy: 0.9568\n",
      "Epoch 56/100\n",
      "50000/50000 [==============================] - 7s 141us/step - loss: 0.4081 - accuracy: 0.9526\n",
      "Epoch 57/100\n",
      "50000/50000 [==============================] - 7s 141us/step - loss: 0.3927 - accuracy: 0.9595\n",
      "Epoch 58/100\n",
      "50000/50000 [==============================] - 7s 141us/step - loss: 0.3910 - accuracy: 0.9570\n",
      "Epoch 59/100\n",
      "50000/50000 [==============================] - 7s 141us/step - loss: 0.3950 - accuracy: 0.9573\n",
      "Epoch 60/100\n",
      "50000/50000 [==============================] - 7s 141us/step - loss: 0.3988 - accuracy: 0.9568\n",
      "Epoch 61/100\n",
      "50000/50000 [==============================] - 7s 141us/step - loss: 0.3895 - accuracy: 0.9578\n",
      "Epoch 62/100\n",
      "50000/50000 [==============================] - 7s 141us/step - loss: 0.3885 - accuracy: 0.9593\n",
      "Epoch 63/100\n",
      "50000/50000 [==============================] - 7s 141us/step - loss: 0.3868 - accuracy: 0.9592\n",
      "Epoch 64/100\n",
      "50000/50000 [==============================] - 7s 141us/step - loss: 0.3874 - accuracy: 0.9592\n",
      "Epoch 65/100\n",
      "50000/50000 [==============================] - 7s 141us/step - loss: 0.3862 - accuracy: 0.9596\n",
      "Epoch 66/100\n",
      "50000/50000 [==============================] - 7s 141us/step - loss: 0.3755 - accuracy: 0.9615\n",
      "Epoch 67/100\n",
      "50000/50000 [==============================] - 7s 142us/step - loss: 0.3835 - accuracy: 0.9604\n",
      "Epoch 68/100\n",
      "50000/50000 [==============================] - 7s 141us/step - loss: 0.3772 - accuracy: 0.9615\n",
      "Epoch 69/100\n",
      "50000/50000 [==============================] - 7s 141us/step - loss: 0.3909 - accuracy: 0.9582\n",
      "Epoch 70/100\n",
      "50000/50000 [==============================] - 7s 142us/step - loss: 0.3792 - accuracy: 0.9626\n",
      "Epoch 71/100\n",
      "50000/50000 [==============================] - 7s 142us/step - loss: 0.3700 - accuracy: 0.9616\n",
      "Epoch 72/100\n",
      "50000/50000 [==============================] - 7s 141us/step - loss: 0.3877 - accuracy: 0.9579\n",
      "Epoch 73/100\n",
      "50000/50000 [==============================] - 7s 142us/step - loss: 0.3757 - accuracy: 0.9622\n",
      "Epoch 74/100\n",
      "50000/50000 [==============================] - 7s 141us/step - loss: 0.3624 - accuracy: 0.9636\n",
      "Epoch 75/100\n",
      "50000/50000 [==============================] - 7s 141us/step - loss: 0.3782 - accuracy: 0.9603\n",
      "Epoch 76/100\n",
      "50000/50000 [==============================] - 7s 141us/step - loss: 0.3771 - accuracy: 0.9629\n",
      "Epoch 77/100\n",
      "50000/50000 [==============================] - 7s 141us/step - loss: 0.3751 - accuracy: 0.9620\n",
      "Epoch 78/100\n",
      "50000/50000 [==============================] - 7s 141us/step - loss: 0.3715 - accuracy: 0.9625\n",
      "Epoch 79/100\n",
      "50000/50000 [==============================] - 7s 142us/step - loss: 0.3595 - accuracy: 0.9660\n",
      "Epoch 80/100\n",
      "50000/50000 [==============================] - 7s 142us/step - loss: 0.3634 - accuracy: 0.9641\n",
      "Epoch 81/100\n",
      "50000/50000 [==============================] - 7s 141us/step - loss: 0.3604 - accuracy: 0.9649\n",
      "Epoch 82/100\n",
      "50000/50000 [==============================] - 7s 141us/step - loss: 0.3645 - accuracy: 0.9637\n",
      "Epoch 83/100\n",
      "50000/50000 [==============================] - 7s 142us/step - loss: 0.3667 - accuracy: 0.9650\n",
      "Epoch 84/100\n",
      "50000/50000 [==============================] - 7s 141us/step - loss: 0.3579 - accuracy: 0.9654\n",
      "Epoch 85/100\n",
      "50000/50000 [==============================] - 7s 141us/step - loss: 0.3630 - accuracy: 0.9643\n",
      "Epoch 86/100\n",
      "50000/50000 [==============================] - 7s 142us/step - loss: 0.3615 - accuracy: 0.9651\n",
      "Epoch 87/100\n",
      "50000/50000 [==============================] - 7s 141us/step - loss: 0.3520 - accuracy: 0.9659\n",
      "Epoch 88/100\n",
      "50000/50000 [==============================] - 7s 141us/step - loss: 0.3502 - accuracy: 0.9669\n",
      "Epoch 89/100\n",
      "50000/50000 [==============================] - 7s 141us/step - loss: 0.3634 - accuracy: 0.9650\n",
      "Epoch 90/100\n",
      "50000/50000 [==============================] - 7s 142us/step - loss: 0.3566 - accuracy: 0.9660\n",
      "Epoch 91/100\n",
      "50000/50000 [==============================] - 7s 141us/step - loss: 0.3611 - accuracy: 0.9644\n",
      "Epoch 92/100\n",
      "50000/50000 [==============================] - 7s 138us/step - loss: 0.3527 - accuracy: 0.9676\n",
      "Epoch 93/100\n",
      "50000/50000 [==============================] - 7s 137us/step - loss: 0.3683 - accuracy: 0.9632\n",
      "Epoch 94/100\n",
      "50000/50000 [==============================] - 7s 139us/step - loss: 0.3442 - accuracy: 0.9691\n",
      "Epoch 95/100\n",
      "50000/50000 [==============================] - 7s 138us/step - loss: 0.3464 - accuracy: 0.9688\n",
      "Epoch 96/100\n",
      "50000/50000 [==============================] - 7s 137us/step - loss: 0.3573 - accuracy: 0.9662\n",
      "Epoch 97/100\n",
      "50000/50000 [==============================] - 7s 138us/step - loss: 0.3493 - accuracy: 0.9673\n",
      "Epoch 98/100\n",
      "50000/50000 [==============================] - 7s 138us/step - loss: 0.3403 - accuracy: 0.9694\n",
      "Epoch 99/100\n",
      "50000/50000 [==============================] - 7s 138us/step - loss: 0.3475 - accuracy: 0.9657\n",
      "Epoch 100/100\n",
      "50000/50000 [==============================] - 7s 138us/step - loss: 0.3478 - accuracy: 0.9684\n"
     ]
    },
    {
     "data": {
      "text/plain": [
       "<keras.callbacks.callbacks.History at 0x7f906c26f5f8>"
      ]
     },
     "execution_count": 4,
     "metadata": {},
     "output_type": "execute_result"
    }
   ],
   "source": [
    "\n",
    "classifier=Sequential()\n",
    "\n",
    "#卷積組合\n",
    "classifier.add(Convolution2D(32, (3, 3), input_shape=(32,32,3),activation='relu'))#32,3,3,input_shape=(32,32,3),activation='relu''\n",
    "classifier.add(BatchNormalization())\n",
    "classifier.add(Convolution2D(64, (3, 3), activation='relu'))\n",
    "classifier.add(BatchNormalization())\n",
    "'''自己決定MaxPooling2D放在哪裡'''\n",
    "classifier.add(MaxPooling2D(pool_size=(2,2)))\n",
    "\n",
    "#卷積組合\n",
    "classifier.add(Convolution2D(128, (3, 3), activation='relu'))\n",
    "classifier.add(BatchNormalization())\n",
    "classifier.add(MaxPooling2D(pool_size=(2,2)))\n",
    "\n",
    "#flatten\n",
    "classifier.add(Flatten())\n",
    "\n",
    "#FC\n",
    "classifier.add(Dense(units=100,activation='relu',kernel_regularizer=regularizers.l2(l=0.001))) ##regularizers\n",
    "classifier.add(BatchNormalization()) ##BatchNormalization\n",
    "classifier.add(Dropout(rate=0.5)) ##Dropout\n",
    "\n",
    "#輸出\n",
    "classifier.add(Dense(units=10,activation='softmax'))\n",
    "\n",
    "#超過兩個就要選categorical_crossentrophy\n",
    "classifier.compile(optimizer = 'adam', loss = 'categorical_crossentropy', metrics = ['accuracy'])\n",
    "classifier.fit(x_train,y_train,batch_size=128,epochs=100)"
   ]
  },
  {
   "cell_type": "markdown",
   "metadata": {},
   "source": [
    "## 預測新圖片，輸入影像前處理要與訓練時相同\n",
    "#### ((X-mean)/(std+1e-7) ):這裡的mean跟std是訓練集的\n",
    "## 維度如下方示範"
   ]
  },
  {
   "cell_type": "code",
   "execution_count": 5,
   "metadata": {},
   "outputs": [
    {
     "data": {
      "text/plain": [
       "array([[8.2542337e-03, 4.6718037e-06, 2.6595894e-02, 3.0555191e-02,\n",
       "        4.1843432e-01, 7.7018968e-04, 4.9479073e-01, 4.1275754e-05,\n",
       "        2.0369759e-02, 1.8369491e-04]], dtype=float32)"
      ]
     },
     "execution_count": 5,
     "metadata": {},
     "output_type": "execute_result"
    }
   ],
   "source": [
    "input_example=(np.zeros(shape=(1,32,32,3))-mean_train)/(std_train+1e-7) \n",
    "classifier.predict(input_example)"
   ]
  },
  {
   "cell_type": "code",
   "execution_count": null,
   "metadata": {},
   "outputs": [],
   "source": []
  }
 ],
 "metadata": {
  "kernelspec": {
   "display_name": "Python 3",
   "language": "python",
   "name": "python3"
  },
  "language_info": {
   "codemirror_mode": {
    "name": "ipython",
    "version": 3
   },
   "file_extension": ".py",
   "mimetype": "text/x-python",
   "name": "python",
   "nbconvert_exporter": "python",
   "pygments_lexer": "ipython3",
   "version": "3.6.8"
  }
 },
 "nbformat": 4,
 "nbformat_minor": 2
}
